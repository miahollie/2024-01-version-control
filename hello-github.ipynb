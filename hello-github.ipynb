{
 "cells": [
  {
   "cell_type": "code",
   "execution_count": 1,
   "id": "5a438275",
   "metadata": {},
   "outputs": [],
   "source": [
    "monthly_rent = 500\n",
    "monthly_income = 1_200\n",
    "food = 300"
   ]
  },
  {
   "cell_type": "code",
   "execution_count": 3,
   "id": "12a4268a",
   "metadata": {},
   "outputs": [],
   "source": [
    "balance = monthly_income - monthly_rent - food"
   ]
  },
  {
   "cell_type": "code",
   "execution_count": 4,
   "id": "02c60004",
   "metadata": {},
   "outputs": [
    {
     "data": {
      "text/plain": [
       "400"
      ]
     },
     "execution_count": 4,
     "metadata": {},
     "output_type": "execute_result"
    }
   ],
   "source": [
    "balance"
   ]
  },
  {
   "cell_type": "code",
   "execution_count": null,
   "id": "f70f1144",
   "metadata": {},
   "outputs": [],
   "source": []
  }
 ],
 "metadata": {
  "kernelspec": {
   "display_name": "Python 3 (ipykernel)",
   "language": "python",
   "name": "python3"
  },
  "language_info": {
   "codemirror_mode": {
    "name": "ipython",
    "version": 3
   },
   "file_extension": ".py",
   "mimetype": "text/x-python",
   "name": "python",
   "nbconvert_exporter": "python",
   "pygments_lexer": "ipython3",
   "version": "3.11.5"
  }
 },
 "nbformat": 4,
 "nbformat_minor": 5
}
